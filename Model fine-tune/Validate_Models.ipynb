{
  "nbformat": 4,
  "nbformat_minor": 0,
  "metadata": {
    "colab": {
      "provenance": []
    },
    "kernelspec": {
      "name": "python3",
      "display_name": "Python 3"
    },
    "language_info": {
      "name": "python"
    }
  },
  "cells": [
    {
      "cell_type": "code",
      "execution_count": 13,
      "metadata": {
        "colab": {
          "base_uri": "https://localhost:8080/"
        },
        "id": "uwbCuc4f5dIt",
        "outputId": "a5dc41c1-dc92-4d22-be35-c37b028d2427"
      },
      "outputs": [
        {
          "output_type": "stream",
          "name": "stdout",
          "text": [
            "Requirement already satisfied: transformers in /usr/local/lib/python3.10/dist-packages (4.47.1)\n",
            "Requirement already satisfied: datasets in /usr/local/lib/python3.10/dist-packages (3.2.0)\n",
            "Requirement already satisfied: filelock in /usr/local/lib/python3.10/dist-packages (from transformers) (3.16.1)\n",
            "Requirement already satisfied: huggingface-hub<1.0,>=0.24.0 in /usr/local/lib/python3.10/dist-packages (from transformers) (0.27.0)\n",
            "Requirement already satisfied: numpy>=1.17 in /usr/local/lib/python3.10/dist-packages (from transformers) (1.26.4)\n",
            "Requirement already satisfied: packaging>=20.0 in /usr/local/lib/python3.10/dist-packages (from transformers) (24.2)\n",
            "Requirement already satisfied: pyyaml>=5.1 in /usr/local/lib/python3.10/dist-packages (from transformers) (6.0.2)\n",
            "Requirement already satisfied: regex!=2019.12.17 in /usr/local/lib/python3.10/dist-packages (from transformers) (2024.11.6)\n",
            "Requirement already satisfied: requests in /usr/local/lib/python3.10/dist-packages (from transformers) (2.32.3)\n",
            "Requirement already satisfied: tokenizers<0.22,>=0.21 in /usr/local/lib/python3.10/dist-packages (from transformers) (0.21.0)\n",
            "Requirement already satisfied: safetensors>=0.4.1 in /usr/local/lib/python3.10/dist-packages (from transformers) (0.4.5)\n",
            "Requirement already satisfied: tqdm>=4.27 in /usr/local/lib/python3.10/dist-packages (from transformers) (4.67.1)\n",
            "Requirement already satisfied: pyarrow>=15.0.0 in /usr/local/lib/python3.10/dist-packages (from datasets) (17.0.0)\n",
            "Requirement already satisfied: dill<0.3.9,>=0.3.0 in /usr/local/lib/python3.10/dist-packages (from datasets) (0.3.8)\n",
            "Requirement already satisfied: pandas in /usr/local/lib/python3.10/dist-packages (from datasets) (2.2.2)\n",
            "Requirement already satisfied: xxhash in /usr/local/lib/python3.10/dist-packages (from datasets) (3.5.0)\n",
            "Requirement already satisfied: multiprocess<0.70.17 in /usr/local/lib/python3.10/dist-packages (from datasets) (0.70.16)\n",
            "Requirement already satisfied: fsspec<=2024.9.0,>=2023.1.0 in /usr/local/lib/python3.10/dist-packages (from fsspec[http]<=2024.9.0,>=2023.1.0->datasets) (2024.9.0)\n",
            "Requirement already satisfied: aiohttp in /usr/local/lib/python3.10/dist-packages (from datasets) (3.11.10)\n",
            "Requirement already satisfied: aiohappyeyeballs>=2.3.0 in /usr/local/lib/python3.10/dist-packages (from aiohttp->datasets) (2.4.4)\n",
            "Requirement already satisfied: aiosignal>=1.1.2 in /usr/local/lib/python3.10/dist-packages (from aiohttp->datasets) (1.3.2)\n",
            "Requirement already satisfied: async-timeout<6.0,>=4.0 in /usr/local/lib/python3.10/dist-packages (from aiohttp->datasets) (4.0.3)\n",
            "Requirement already satisfied: attrs>=17.3.0 in /usr/local/lib/python3.10/dist-packages (from aiohttp->datasets) (24.3.0)\n",
            "Requirement already satisfied: frozenlist>=1.1.1 in /usr/local/lib/python3.10/dist-packages (from aiohttp->datasets) (1.5.0)\n",
            "Requirement already satisfied: multidict<7.0,>=4.5 in /usr/local/lib/python3.10/dist-packages (from aiohttp->datasets) (6.1.0)\n",
            "Requirement already satisfied: propcache>=0.2.0 in /usr/local/lib/python3.10/dist-packages (from aiohttp->datasets) (0.2.1)\n",
            "Requirement already satisfied: yarl<2.0,>=1.17.0 in /usr/local/lib/python3.10/dist-packages (from aiohttp->datasets) (1.18.3)\n",
            "Requirement already satisfied: typing-extensions>=3.7.4.3 in /usr/local/lib/python3.10/dist-packages (from huggingface-hub<1.0,>=0.24.0->transformers) (4.12.2)\n",
            "Requirement already satisfied: charset-normalizer<4,>=2 in /usr/local/lib/python3.10/dist-packages (from requests->transformers) (3.4.0)\n",
            "Requirement already satisfied: idna<4,>=2.5 in /usr/local/lib/python3.10/dist-packages (from requests->transformers) (3.10)\n",
            "Requirement already satisfied: urllib3<3,>=1.21.1 in /usr/local/lib/python3.10/dist-packages (from requests->transformers) (2.2.3)\n",
            "Requirement already satisfied: certifi>=2017.4.17 in /usr/local/lib/python3.10/dist-packages (from requests->transformers) (2024.12.14)\n",
            "Requirement already satisfied: python-dateutil>=2.8.2 in /usr/local/lib/python3.10/dist-packages (from pandas->datasets) (2.8.2)\n",
            "Requirement already satisfied: pytz>=2020.1 in /usr/local/lib/python3.10/dist-packages (from pandas->datasets) (2024.2)\n",
            "Requirement already satisfied: tzdata>=2022.7 in /usr/local/lib/python3.10/dist-packages (from pandas->datasets) (2024.2)\n",
            "Requirement already satisfied: six>=1.5 in /usr/local/lib/python3.10/dist-packages (from python-dateutil>=2.8.2->pandas->datasets) (1.17.0)\n",
            "Requirement already satisfied: transformers in /usr/local/lib/python3.10/dist-packages (4.47.1)\n",
            "Requirement already satisfied: scikit-learn in /usr/local/lib/python3.10/dist-packages (1.6.0)\n",
            "Requirement already satisfied: onnxruntime in /usr/local/lib/python3.10/dist-packages (1.20.1)\n",
            "Requirement already satisfied: filelock in /usr/local/lib/python3.10/dist-packages (from transformers) (3.16.1)\n",
            "Requirement already satisfied: huggingface-hub<1.0,>=0.24.0 in /usr/local/lib/python3.10/dist-packages (from transformers) (0.27.0)\n",
            "Requirement already satisfied: numpy>=1.17 in /usr/local/lib/python3.10/dist-packages (from transformers) (1.26.4)\n",
            "Requirement already satisfied: packaging>=20.0 in /usr/local/lib/python3.10/dist-packages (from transformers) (24.2)\n",
            "Requirement already satisfied: pyyaml>=5.1 in /usr/local/lib/python3.10/dist-packages (from transformers) (6.0.2)\n",
            "Requirement already satisfied: regex!=2019.12.17 in /usr/local/lib/python3.10/dist-packages (from transformers) (2024.11.6)\n",
            "Requirement already satisfied: requests in /usr/local/lib/python3.10/dist-packages (from transformers) (2.32.3)\n",
            "Requirement already satisfied: tokenizers<0.22,>=0.21 in /usr/local/lib/python3.10/dist-packages (from transformers) (0.21.0)\n",
            "Requirement already satisfied: safetensors>=0.4.1 in /usr/local/lib/python3.10/dist-packages (from transformers) (0.4.5)\n",
            "Requirement already satisfied: tqdm>=4.27 in /usr/local/lib/python3.10/dist-packages (from transformers) (4.67.1)\n",
            "Requirement already satisfied: scipy>=1.6.0 in /usr/local/lib/python3.10/dist-packages (from scikit-learn) (1.13.1)\n",
            "Requirement already satisfied: joblib>=1.2.0 in /usr/local/lib/python3.10/dist-packages (from scikit-learn) (1.4.2)\n",
            "Requirement already satisfied: threadpoolctl>=3.1.0 in /usr/local/lib/python3.10/dist-packages (from scikit-learn) (3.5.0)\n",
            "Requirement already satisfied: coloredlogs in /usr/local/lib/python3.10/dist-packages (from onnxruntime) (15.0.1)\n",
            "Requirement already satisfied: flatbuffers in /usr/local/lib/python3.10/dist-packages (from onnxruntime) (24.3.25)\n",
            "Requirement already satisfied: protobuf in /usr/local/lib/python3.10/dist-packages (from onnxruntime) (4.25.5)\n",
            "Requirement already satisfied: sympy in /usr/local/lib/python3.10/dist-packages (from onnxruntime) (1.13.1)\n",
            "Requirement already satisfied: fsspec>=2023.5.0 in /usr/local/lib/python3.10/dist-packages (from huggingface-hub<1.0,>=0.24.0->transformers) (2024.9.0)\n",
            "Requirement already satisfied: typing-extensions>=3.7.4.3 in /usr/local/lib/python3.10/dist-packages (from huggingface-hub<1.0,>=0.24.0->transformers) (4.12.2)\n",
            "Requirement already satisfied: humanfriendly>=9.1 in /usr/local/lib/python3.10/dist-packages (from coloredlogs->onnxruntime) (10.0)\n",
            "Requirement already satisfied: charset-normalizer<4,>=2 in /usr/local/lib/python3.10/dist-packages (from requests->transformers) (3.4.0)\n",
            "Requirement already satisfied: idna<4,>=2.5 in /usr/local/lib/python3.10/dist-packages (from requests->transformers) (3.10)\n",
            "Requirement already satisfied: urllib3<3,>=1.21.1 in /usr/local/lib/python3.10/dist-packages (from requests->transformers) (2.2.3)\n",
            "Requirement already satisfied: certifi>=2017.4.17 in /usr/local/lib/python3.10/dist-packages (from requests->transformers) (2024.12.14)\n",
            "Requirement already satisfied: mpmath<1.4,>=1.1.0 in /usr/local/lib/python3.10/dist-packages (from sympy->onnxruntime) (1.3.0)\n"
          ]
        }
      ],
      "source": [
        "!pip install transformers datasets\n",
        "!pip install transformers scikit-learn onnxruntime\n",
        "\n",
        "\n",
        "import os\n",
        "import json\n",
        "import numpy as np\n",
        "import torch\n",
        "from transformers import AutoTokenizer\n",
        "from torch.utils.data import Dataset, DataLoader\n",
        "from sklearn.metrics import classification_report\n",
        "import onnxruntime as ort\n",
        "import matplotlib.pyplot as plt\n",
        "import seaborn as sns\n",
        "from sklearn.metrics import confusion_matrix\n"
      ]
    },
    {
      "cell_type": "markdown",
      "source": [
        "## Mount Google Drive in Colab"
      ],
      "metadata": {
        "id": "-aEYbaiJ8ffo"
      }
    },
    {
      "cell_type": "code",
      "source": [
        "from google.colab import drive\n",
        "drive.mount('/content/drive')"
      ],
      "metadata": {
        "colab": {
          "base_uri": "https://localhost:8080/"
        },
        "id": "IKa3EF6X8eQ2",
        "outputId": "6f17e192-c950-498c-f840-39ad8015c859"
      },
      "execution_count": 14,
      "outputs": [
        {
          "output_type": "stream",
          "name": "stdout",
          "text": [
            "Drive already mounted at /content/drive; to attempt to forcibly remount, call drive.mount(\"/content/drive\", force_remount=True).\n"
          ]
        }
      ]
    },
    {
      "cell_type": "markdown",
      "source": [
        "## load validation dataset"
      ],
      "metadata": {
        "id": "osb5Qc3t9DfB"
      }
    },
    {
      "cell_type": "code",
      "source": [
        "validation_path = 'validation.json'  # Update with your actual file path\n",
        "with open(validation_path, 'r') as f:\n",
        "    validation_data = json.load(f)"
      ],
      "metadata": {
        "id": "eEI4ZzcODqWZ"
      },
      "execution_count": 15,
      "outputs": []
    },
    {
      "cell_type": "markdown",
      "source": [
        "## Import Required Libraries"
      ],
      "metadata": {
        "id": "lJ20oSXQDmna"
      }
    },
    {
      "cell_type": "code",
      "source": [
        "def tokenize_and_align_labels(text, spans, tokenizer, labels_to_ids):\n",
        "    tokens = tokenizer(\n",
        "        text,\n",
        "        truncation=True,\n",
        "        padding=\"max_length\",\n",
        "        max_length=128,\n",
        "        return_offsets_mapping=True\n",
        "    )\n",
        "    offset_mapping = tokens[\"offset_mapping\"]\n",
        "    labels = [labels_to_ids[\"O\"]] * len(offset_mapping)  # Default to \"O\"\n",
        "\n",
        "    for span in spans:\n",
        "        start, end, label = span[\"start\"], span[\"end\"], span[\"label\"]\n",
        "        for idx, (token_start, token_end) in enumerate(offset_mapping):\n",
        "            if token_start >= start and token_end <= end:\n",
        "                labels[idx] = labels_to_ids[label]  # Directly assign the label ID\n",
        "\n",
        "    tokens.pop(\"offset_mapping\")  # Remove offset mapping\n",
        "    return tokens, labels"
      ],
      "metadata": {
        "id": "e0pvSGBYDzLW"
      },
      "execution_count": 16,
      "outputs": []
    },
    {
      "cell_type": "markdown",
      "source": [
        "## Load the Tokenizer & Create Custom Dataset Class"
      ],
      "metadata": {
        "id": "bxy891SMES_f"
      }
    },
    {
      "cell_type": "code",
      "source": [
        "model_path = '/content/drive/MyDrive/models/model 1 | 2024-12-26'  # Path to your tokenizer directory\n",
        "# model_path = '/content/drive/MyDrive/models/model 2 | 2025-01-02'  # Path to your tokenizer directory\n",
        "tokenizer = AutoTokenizer.from_pretrained(model_path)\n",
        "\n",
        "# Define the label mapping\n",
        "labels_to_ids = {\n",
        "    \"O\": 0, \"HOSP\": 1, \"PATIENT\": 2, \"STAFF\": 3, \"AGE\": 4,\n",
        "    \"DATE\": 5, \"PHONE\": 6, \"ID\": 7, \"EMAIL\": 8, \"LOC\": 9, \"ORG\": 10\n",
        "}\n",
        "ids_to_labels = {v: k for k, v in labels_to_ids.items()}\n",
        "\n",
        "class TokenClassificationDataset(Dataset):\n",
        "    def __init__(self, data, tokenizer, labels_to_ids):\n",
        "        self.data = data\n",
        "        self.tokenizer = tokenizer\n",
        "        self.labels_to_ids = labels_to_ids\n",
        "\n",
        "    def __len__(self):\n",
        "        return len(self.data)\n",
        "\n",
        "    def __getitem__(self, idx):\n",
        "        item = self.data[idx]\n",
        "        text = item[\"text\"]\n",
        "        spans = item[\"spans\"]\n",
        "        tokens, labels = tokenize_and_align_labels(text, spans, self.tokenizer, self.labels_to_ids)\n",
        "        tokens[\"labels\"] = labels  # Keep labels as a list for now\n",
        "        return {key: torch.tensor(val, dtype=torch.long) if isinstance(val, list) else val for key, val in tokens.items()}\n",
        "\n",
        "validation_dataset = TokenClassificationDataset(validation_data, tokenizer, labels_to_ids)\n",
        "validation_loader = DataLoader(validation_dataset, batch_size=16, shuffle=False)\n"
      ],
      "metadata": {
        "id": "ywP2mHgl_Zyy"
      },
      "execution_count": 17,
      "outputs": []
    },
    {
      "cell_type": "markdown",
      "source": [
        "## Load ONNX Model\n"
      ],
      "metadata": {
        "id": "rfyzcSHWEc1S"
      }
    },
    {
      "cell_type": "code",
      "source": [
        "onnx_model_path = model_path+'/model.onnx'\n",
        "session = ort.InferenceSession(onnx_model_path)"
      ],
      "metadata": {
        "id": "EUaJYfUd-9kd"
      },
      "execution_count": 18,
      "outputs": []
    },
    {
      "cell_type": "markdown",
      "source": [
        "## Evaluate the Model"
      ],
      "metadata": {
        "id": "gVPeXBQREkFg"
      }
    },
    {
      "cell_type": "code",
      "source": [
        "all_labels = []\n",
        "all_preds = []\n",
        "\n",
        "for batch in validation_loader:\n",
        "    input_ids = batch[\"input_ids\"].numpy()\n",
        "    attention_mask = batch[\"attention_mask\"].numpy()\n",
        "    token_type_ids = batch[\"token_type_ids\"].numpy()  # Include token_type_ids\n",
        "    labels = batch[\"labels\"].numpy()\n",
        "\n",
        "    # ONNX model inference\n",
        "    outputs = session.run(None, {\n",
        "        \"input_ids\": input_ids,\n",
        "        \"attention_mask\": attention_mask,\n",
        "        \"token_type_ids\": token_type_ids\n",
        "    })\n",
        "    logits = outputs[0]\n",
        "    predictions = np.argmax(logits, axis=-1)\n",
        "\n",
        "    # Collect predictions and labels for non-padding tokens\n",
        "    for i in range(len(labels)):\n",
        "        label = labels[i]\n",
        "        pred = predictions[i]\n",
        "        mask = batch[\"attention_mask\"][i].numpy()\n",
        "        all_labels.extend(label[mask == 1])\n",
        "        all_preds.extend(pred[mask == 1])\n",
        "\n",
        "# Convert predictions and labels back to original format\n",
        "all_labels = [ids_to_labels[label] for label in all_labels]\n",
        "all_preds = [ids_to_labels[pred] for pred in all_preds]\n"
      ],
      "metadata": {
        "id": "caA_pz_5Eiwy"
      },
      "execution_count": 19,
      "outputs": []
    },
    {
      "cell_type": "markdown",
      "source": [
        "## Reports"
      ],
      "metadata": {
        "id": "PFSbfkbJKKt_"
      }
    },
    {
      "cell_type": "code",
      "source": [
        "# Calculate Metrics\n",
        "report = classification_report(all_labels, all_preds, output_dict=False)\n",
        "print(report)\n",
        "\n",
        "\n",
        "# Generate confusion matrix\n",
        "unique_labels = list(labels_to_ids.keys())  # List of all label names\n",
        "cm = confusion_matrix(all_labels, all_preds, labels=unique_labels)\n",
        "\n",
        "# Plot confusion matrix\n",
        "plt.figure(figsize=(10, 8))\n",
        "sns.heatmap(cm, annot=True, fmt='d', xticklabels=unique_labels, yticklabels=unique_labels, cmap='Blues')\n",
        "plt.xlabel('Predicted Labels')\n",
        "plt.ylabel('True Labels')\n",
        "plt.title('Confusion Matrix')\n",
        "plt.show()\n"
      ],
      "metadata": {
        "colab": {
          "base_uri": "https://localhost:8080/",
          "height": 1000
        },
        "id": "e4HCRyOPKIWT",
        "outputId": "ef69f0f5-2b98-46e4-86fb-90d8551fc2a3"
      },
      "execution_count": 20,
      "outputs": [
        {
          "output_type": "stream",
          "name": "stdout",
          "text": [
            "              precision    recall  f1-score   support\n",
            "\n",
            "         AGE       1.00      1.00      1.00         7\n",
            "        DATE       1.00      1.00      1.00       153\n",
            "       EMAIL       1.00      1.00      1.00        76\n",
            "        HOSP       0.97      0.80      0.88        44\n",
            "          ID       1.00      1.00      1.00        58\n",
            "         LOC       1.00      1.00      1.00        37\n",
            "           O       0.97      1.00      0.98      1796\n",
            "         ORG       1.00      1.00      1.00        13\n",
            "     PATIENT       0.98      0.73      0.84       186\n",
            "       PHONE       1.00      1.00      1.00        87\n",
            "       STAFF       1.00      0.95      0.97        39\n",
            "\n",
            "    accuracy                           0.98      2496\n",
            "   macro avg       0.99      0.95      0.97      2496\n",
            "weighted avg       0.98      0.98      0.97      2496\n",
            "\n"
          ]
        },
        {
          "output_type": "display_data",
          "data": {
            "text/plain": [
              "<Figure size 1000x800 with 2 Axes>"
            ],
            "image/png": "[encoded data removed]"
          },
          "metadata": {}
        }
      ]
    },
    {
      "cell_type": "code",
      "source": [],
      "metadata": {
        "id": "lSEZSE_gJqOb"
      },
      "execution_count": 20,
      "outputs": []
    }
  ]
}